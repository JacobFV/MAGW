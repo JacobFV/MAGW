{
  "nbformat": 4,
  "nbformat_minor": 0,
  "metadata": {
    "colab": {
      "name": "Ant World.ipynb",
      "provenance": [],
      "collapsed_sections": [],
      "authorship_tag": "ABX9TyOeVEuFunU6mS/1Cr7PSWME",
      "include_colab_link": true
    },
    "kernelspec": {
      "name": "python3",
      "display_name": "Python 3"
    }
  },
  "cells": [
    {
      "cell_type": "markdown",
      "metadata": {
        "id": "view-in-github",
        "colab_type": "text"
      },
      "source": [
        "<a href=\"https://colab.research.google.com/github/JacobFV/ant-world/blob/master/Ant_World.ipynb\" target=\"_parent\"><img src=\"https://colab.research.google.com/assets/colab-badge.svg\" alt=\"Open In Colab\"/></a>"
      ]
    },
    {
      "cell_type": "code",
      "metadata": {
        "id": "K1qTzZTC26Gj",
        "colab_type": "code",
        "colab": {
          "base_uri": "https://localhost:8080/",
          "height": 118
        },
        "outputId": "87579f69-8102-4806-dd20-df6c28e9297d"
      },
      "source": [
        "%%bash\n",
        "pip install gym"
      ],
      "execution_count": 40,
      "outputs": [
        {
          "output_type": "stream",
          "text": [
            "Requirement already satisfied: gym in /usr/local/lib/python3.6/dist-packages (0.17.2)\n",
            "Requirement already satisfied: pyglet<=1.5.0,>=1.4.0 in /usr/local/lib/python3.6/dist-packages (from gym) (1.5.0)\n",
            "Requirement already satisfied: numpy>=1.10.4 in /usr/local/lib/python3.6/dist-packages (from gym) (1.18.5)\n",
            "Requirement already satisfied: cloudpickle<1.4.0,>=1.2.0 in /usr/local/lib/python3.6/dist-packages (from gym) (1.3.0)\n",
            "Requirement already satisfied: scipy in /usr/local/lib/python3.6/dist-packages (from gym) (1.4.1)\n",
            "Requirement already satisfied: future in /usr/local/lib/python3.6/dist-packages (from pyglet<=1.5.0,>=1.4.0->gym) (0.16.0)\n"
          ],
          "name": "stdout"
        }
      ]
    },
    {
      "cell_type": "code",
      "metadata": {
        "id": "S9hdWCBv3PXC",
        "colab_type": "code",
        "colab": {}
      },
      "source": [
        "import gym\n",
        "from gym import spaces"
      ],
      "execution_count": 41,
      "outputs": []
    },
    {
      "cell_type": "code",
      "metadata": {
        "id": "PuNWzTpA3fmT",
        "colab_type": "code",
        "colab": {
          "base_uri": "https://localhost:8080/",
          "height": 1000
        },
        "outputId": "30e9b599-b284-4760-c77c-c08d3e727e98"
      },
      "source": [
        "help(spaces.MultiDiscrete)"
      ],
      "execution_count": 42,
      "outputs": [
        {
          "output_type": "stream",
          "text": [
            "Help on class MultiDiscrete in module gym.spaces.multi_discrete:\n",
            "\n",
            "class MultiDiscrete(gym.spaces.space.Space)\n",
            " |  - The multi-discrete action space consists of a series of discrete action spaces with different number of actions in eachs\n",
            " |  - It is useful to represent game controllers or keyboards where each key can be represented as a discrete action space\n",
            " |  - It is parametrized by passing an array of positive integers specifying number of actions for each discrete action space\n",
            " |  \n",
            " |  Note: Some environment wrappers assume a value of 0 always represents the NOOP action.\n",
            " |  \n",
            " |  e.g. Nintendo Game Controller\n",
            " |  - Can be conceptualized as 3 discrete action spaces:\n",
            " |  \n",
            " |      1) Arrow Keys: Discrete 5  - NOOP[0], UP[1], RIGHT[2], DOWN[3], LEFT[4]  - params: min: 0, max: 4\n",
            " |      2) Button A:   Discrete 2  - NOOP[0], Pressed[1] - params: min: 0, max: 1\n",
            " |      3) Button B:   Discrete 2  - NOOP[0], Pressed[1] - params: min: 0, max: 1\n",
            " |  \n",
            " |  - Can be initialized as\n",
            " |  \n",
            " |      MultiDiscrete([ 5, 2, 2 ])\n",
            " |  \n",
            " |  Method resolution order:\n",
            " |      MultiDiscrete\n",
            " |      gym.spaces.space.Space\n",
            " |      builtins.object\n",
            " |  \n",
            " |  Methods defined here:\n",
            " |  \n",
            " |  __eq__(self, other)\n",
            " |      Return self==value.\n",
            " |  \n",
            " |  __init__(self, nvec)\n",
            " |      nvec: vector of counts of each categorical variable\n",
            " |  \n",
            " |  __repr__(self)\n",
            " |      Return repr(self).\n",
            " |  \n",
            " |  contains(self, x)\n",
            " |      Return boolean specifying if x is a valid\n",
            " |      member of this space\n",
            " |  \n",
            " |  from_jsonable(self, sample_n)\n",
            " |      Convert a JSONable data type to a batch of samples from this space.\n",
            " |  \n",
            " |  sample(self)\n",
            " |      Randomly sample an element of this space. Can be \n",
            " |      uniform or non-uniform sampling based on boundedness of space.\n",
            " |  \n",
            " |  to_jsonable(self, sample_n)\n",
            " |      Convert a batch of samples from this space to a JSONable data type.\n",
            " |  \n",
            " |  ----------------------------------------------------------------------\n",
            " |  Data and other attributes defined here:\n",
            " |  \n",
            " |  __hash__ = None\n",
            " |  \n",
            " |  ----------------------------------------------------------------------\n",
            " |  Methods inherited from gym.spaces.space.Space:\n",
            " |  \n",
            " |  __contains__(self, x)\n",
            " |  \n",
            " |  seed(self, seed=None)\n",
            " |      Seed the PRNG of this space.\n",
            " |  \n",
            " |  ----------------------------------------------------------------------\n",
            " |  Data descriptors inherited from gym.spaces.space.Space:\n",
            " |  \n",
            " |  __dict__\n",
            " |      dictionary for instance variables (if defined)\n",
            " |  \n",
            " |  __weakref__\n",
            " |      list of weak references to the object (if defined)\n",
            "\n"
          ],
          "name": "stdout"
        }
      ]
    },
    {
      "cell_type": "code",
      "metadata": {
        "id": "36Eh3vUO2nqU",
        "colab_type": "code",
        "colab": {}
      },
      "source": [
        "class AntWorld(gym.Env):\n",
        "  \"\"\"Custom Environment that follows gym interface\"\"\"\n",
        "  metadata = {'render.modes': ['human']}\n",
        "\n",
        "  def __init__(self, N_ants):\n",
        "    super(AntWorld, self).__init__()\n",
        "    # ants can\n",
        "    # - turn left right or straight ()\n",
        "    # - move forward (binary)\n",
        "    # - consume food (binary): can only consume other ants from left right or behind\n",
        "    # - expell food (binary): can\n",
        "    # - leave any combination of 4 pheremones (multi-discrete)\n",
        "\n",
        "    self.action_space = spaces.MultiDiscrete([5, ]*N_ants)\n",
        "    # Example for using image as input:\n",
        "    self.observation_space = spaces.Box(low=0, high=255,\n",
        "                                        shape=(HEIGHT, WIDTH, N_CHANNELS), dtype=np.uint8)\n",
        "\n",
        "  def step(self, action):\n",
        "    ...\n",
        "    return observation, reward, done, info\n",
        "  def reset(self):\n",
        "    ...\n",
        "    return observation  # reward, done, info can't be included\n",
        "  def render(self, mode='human'):\n",
        "    ...\n",
        "  def close (self):\n",
        "    ..."
      ],
      "execution_count": null,
      "outputs": []
    }
  ]
}